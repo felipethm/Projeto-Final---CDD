{
 "cells": [
  {
   "cell_type": "code",
   "execution_count": 2,
   "metadata": {},
   "outputs": [],
   "source": [
    "%matplotlib inline\n",
    "import pandas as pd\n",
    "import matplotlib.pyplot as plt\n",
    "import numpy as np\n",
    "from scipy import stats\n",
    "import math\n",
    "from scipy.stats import *"
   ]
  },
  {
   "cell_type": "code",
   "execution_count": 3,
   "metadata": {},
   "outputs": [
    {
     "data": {
      "text/html": [
       "<div>\n",
       "<style scoped>\n",
       "    .dataframe tbody tr th:only-of-type {\n",
       "        vertical-align: middle;\n",
       "    }\n",
       "\n",
       "    .dataframe tbody tr th {\n",
       "        vertical-align: top;\n",
       "    }\n",
       "\n",
       "    .dataframe thead th {\n",
       "        text-align: right;\n",
       "    }\n",
       "</style>\n",
       "<table border=\"1\" class=\"dataframe\">\n",
       "  <thead>\n",
       "    <tr style=\"text-align: right;\">\n",
       "      <th></th>\n",
       "      <th>PLAYER</th>\n",
       "      <th>TEAM</th>\n",
       "      <th>AGE</th>\n",
       "      <th>HEIGHT</th>\n",
       "      <th>HEIGHT 1</th>\n",
       "      <th>HEIGHT 0,1</th>\n",
       "      <th>WEIGHT</th>\n",
       "      <th>COLLEGE</th>\n",
       "      <th>COUNTRY</th>\n",
       "      <th>DRAFT YEAR</th>\n",
       "      <th>...</th>\n",
       "      <th>GP</th>\n",
       "      <th>PTS</th>\n",
       "      <th>REB</th>\n",
       "      <th>AST</th>\n",
       "      <th>NETRTG</th>\n",
       "      <th>OREB%</th>\n",
       "      <th>DREB%</th>\n",
       "      <th>USG%</th>\n",
       "      <th>TS%</th>\n",
       "      <th>AST%</th>\n",
       "    </tr>\n",
       "  </thead>\n",
       "  <tbody>\n",
       "    <tr>\n",
       "      <th>0</th>\n",
       "      <td>Aaron Brooks</td>\n",
       "      <td>MIN</td>\n",
       "      <td>33</td>\n",
       "      <td>6.0</td>\n",
       "      <td>6</td>\n",
       "      <td>0</td>\n",
       "      <td>161</td>\n",
       "      <td>Oregon</td>\n",
       "      <td>USA</td>\n",
       "      <td>2007</td>\n",
       "      <td>...</td>\n",
       "      <td>32</td>\n",
       "      <td>2.3</td>\n",
       "      <td>0.5</td>\n",
       "      <td>0.6</td>\n",
       "      <td>-18.7</td>\n",
       "      <td>0.036</td>\n",
       "      <td>0.057</td>\n",
       "      <td>0.189</td>\n",
       "      <td>0.508</td>\n",
       "      <td>0.161</td>\n",
       "    </tr>\n",
       "    <tr>\n",
       "      <th>1</th>\n",
       "      <td>Aaron Gordon</td>\n",
       "      <td>ORL</td>\n",
       "      <td>22</td>\n",
       "      <td>6.9</td>\n",
       "      <td>6</td>\n",
       "      <td>9</td>\n",
       "      <td>220</td>\n",
       "      <td>Arizona</td>\n",
       "      <td>USA</td>\n",
       "      <td>2014</td>\n",
       "      <td>...</td>\n",
       "      <td>58</td>\n",
       "      <td>17.6</td>\n",
       "      <td>7.9</td>\n",
       "      <td>2.3</td>\n",
       "      <td>-1.8</td>\n",
       "      <td>0.044</td>\n",
       "      <td>0.191</td>\n",
       "      <td>0.237</td>\n",
       "      <td>0.530</td>\n",
       "      <td>0.111</td>\n",
       "    </tr>\n",
       "    <tr>\n",
       "      <th>2</th>\n",
       "      <td>Aaron Harrison</td>\n",
       "      <td>DAL</td>\n",
       "      <td>23</td>\n",
       "      <td>6.6</td>\n",
       "      <td>6</td>\n",
       "      <td>6</td>\n",
       "      <td>210</td>\n",
       "      <td>Kentucky</td>\n",
       "      <td>USA</td>\n",
       "      <td>Undrafted</td>\n",
       "      <td>...</td>\n",
       "      <td>9</td>\n",
       "      <td>6.7</td>\n",
       "      <td>2.7</td>\n",
       "      <td>1.2</td>\n",
       "      <td>-14.1</td>\n",
       "      <td>0.015</td>\n",
       "      <td>0.091</td>\n",
       "      <td>0.147</td>\n",
       "      <td>0.392</td>\n",
       "      <td>0.072</td>\n",
       "    </tr>\n",
       "    <tr>\n",
       "      <th>3</th>\n",
       "      <td>Aaron Jackson</td>\n",
       "      <td>HOU</td>\n",
       "      <td>32</td>\n",
       "      <td>6.3</td>\n",
       "      <td>6</td>\n",
       "      <td>3</td>\n",
       "      <td>183</td>\n",
       "      <td>None</td>\n",
       "      <td>USA</td>\n",
       "      <td>Undrafted</td>\n",
       "      <td>...</td>\n",
       "      <td>1</td>\n",
       "      <td>8.0</td>\n",
       "      <td>3.0</td>\n",
       "      <td>1.0</td>\n",
       "      <td>-18.1</td>\n",
       "      <td>0.056</td>\n",
       "      <td>0.031</td>\n",
       "      <td>0.149</td>\n",
       "      <td>0.405</td>\n",
       "      <td>0.053</td>\n",
       "    </tr>\n",
       "    <tr>\n",
       "      <th>4</th>\n",
       "      <td>Abdel Nader</td>\n",
       "      <td>BOS</td>\n",
       "      <td>24</td>\n",
       "      <td>6.6</td>\n",
       "      <td>6</td>\n",
       "      <td>6</td>\n",
       "      <td>230</td>\n",
       "      <td>Iowa State</td>\n",
       "      <td>Egypt</td>\n",
       "      <td>2016</td>\n",
       "      <td>...</td>\n",
       "      <td>48</td>\n",
       "      <td>3.0</td>\n",
       "      <td>1.5</td>\n",
       "      <td>0.5</td>\n",
       "      <td>-10.2</td>\n",
       "      <td>0.024</td>\n",
       "      <td>0.111</td>\n",
       "      <td>0.161</td>\n",
       "      <td>0.439</td>\n",
       "      <td>0.078</td>\n",
       "    </tr>\n",
       "  </tbody>\n",
       "</table>\n",
       "<p>5 rows × 22 columns</p>\n",
       "</div>"
      ],
      "text/plain": [
       "           PLAYER TEAM  AGE  HEIGHT  HEIGHT 1  HEIGHT 0,1  WEIGHT     COLLEGE  \\\n",
       "0    Aaron Brooks  MIN   33     6.0         6           0     161      Oregon   \n",
       "1    Aaron Gordon  ORL   22     6.9         6           9     220     Arizona   \n",
       "2  Aaron Harrison  DAL   23     6.6         6           6     210    Kentucky   \n",
       "3   Aaron Jackson  HOU   32     6.3         6           3     183        None   \n",
       "4     Abdel Nader  BOS   24     6.6         6           6     230  Iowa State   \n",
       "\n",
       "  COUNTRY DRAFT YEAR  ...    GP   PTS  REB  AST  NETRTG  OREB%  DREB%   USG%  \\\n",
       "0     USA       2007  ...    32   2.3  0.5  0.6   -18.7  0.036  0.057  0.189   \n",
       "1     USA       2014  ...    58  17.6  7.9  2.3    -1.8  0.044  0.191  0.237   \n",
       "2     USA  Undrafted  ...     9   6.7  2.7  1.2   -14.1  0.015  0.091  0.147   \n",
       "3     USA  Undrafted  ...     1   8.0  3.0  1.0   -18.1  0.056  0.031  0.149   \n",
       "4   Egypt       2016  ...    48   3.0  1.5  0.5   -10.2  0.024  0.111  0.161   \n",
       "\n",
       "     TS%   AST%  \n",
       "0  0.508  0.161  \n",
       "1  0.530  0.111  \n",
       "2  0.392  0.072  \n",
       "3  0.405  0.053  \n",
       "4  0.439  0.078  \n",
       "\n",
       "[5 rows x 22 columns]"
      ]
     },
     "execution_count": 3,
     "metadata": {},
     "output_type": "execute_result"
    }
   ],
   "source": [
    "dados = pd.read_excel('Projeto_Final_CDD_NBA_Position_Preview.xlsx')\n",
    "dados.head()"
   ]
  },
  {
   "cell_type": "code",
   "execution_count": 4,
   "metadata": {},
   "outputs": [
    {
     "data": {
      "text/plain": [
       "540"
      ]
     },
     "execution_count": 4,
     "metadata": {},
     "output_type": "execute_result"
    }
   ],
   "source": [
    "# Checando se há jogadores repetidos no banco de dados.\n",
    "\n",
    "nba_players = []\n",
    "for player in dados.PLAYER:\n",
    "    if player not in nba_players:\n",
    "        nba_players.append(player)\n",
    "len(nba_players)"
   ]
  },
  {
   "cell_type": "code",
   "execution_count": 5,
   "metadata": {},
   "outputs": [],
   "source": [
    "# Como o número de jogadores não repetidos é igual ao número de (Linhas do Excel - 1), podemos concluir que não há jogadores\n",
    "# repetidos no banco de dados."
   ]
  },
  {
   "cell_type": "markdown",
   "metadata": {},
   "source": [
    "# Análise da Idade "
   ]
  },
  {
   "cell_type": "code",
   "execution_count": 6,
   "metadata": {},
   "outputs": [
    {
     "name": "stdout",
     "output_type": "stream",
     "text": [
      "A média da idade do jogadores é: 26.522222222222222\n",
      "O desvio padrão da idade do jogadores é: 4.190884474403748\n"
     ]
    }
   ],
   "source": [
    "# Tirando a média/desvio padrão da idade dos jogadores.\n",
    "media_idades = dados.AGE.mean()\n",
    "print(\"A média da idade do jogadores é: {0}\".format(media_idades))\n",
    "\n",
    "desvpad_idades = dados.AGE.std()\n",
    "print(\"O desvio padrão da idade do jogadores é: {0}\".format(desvpad_idades))"
   ]
  },
  {
   "cell_type": "code",
   "execution_count": 7,
   "metadata": {},
   "outputs": [
    {
     "data": {
      "text/plain": [
       "[<matplotlib.lines.Line2D at 0xcac5a13c50>]"
      ]
     },
     "execution_count": 7,
     "metadata": {},
     "output_type": "execute_result"
    },
    {
     "data": {
      "image/png": "[encoded data removed]",
      "text/plain": [
       "<matplotlib.figure.Figure at 0xcac5a13588>"
      ]
     },
     "metadata": {},
     "output_type": "display_data"
    }
   ],
   "source": [
    "loc = media_idades\n",
    "scale = desvpad_idades\n",
    "n = len(nba_players)\n",
    "\n",
    "plot = dados[\"AGE\"].plot.hist(density=True, bins=15)\n",
    "plot.set_xlabel('IDADE');\n",
    "\n",
    "X = norm.rvs(loc,scale,n)\n",
    "x = np.arange(X.min(), X.max(), 0.001)\n",
    "plt.plot(x, norm.pdf(x, loc, scale))\n"
   ]
  },
  {
   "cell_type": "markdown",
   "metadata": {},
   "source": [
    "# Análise do Peso"
   ]
  },
  {
   "cell_type": "code",
   "execution_count": 8,
   "metadata": {},
   "outputs": [
    {
     "name": "stdout",
     "output_type": "stream",
     "text": [
      "A média do peso dos jogadores é: 98.81185537307681\n",
      "O desvio padrão do peso dos jogadores é: 11.3801220815274\n"
     ]
    }
   ],
   "source": [
    "# Tirando a média/desvio padrão do peso em kgs dos jogadores.\n",
    "media_pesos_lbs = dados.WEIGHT.mean()\n",
    "media_pesos_kg = media_pesos_lbs/2.20462\n",
    "print(\"A média do peso dos jogadores é: {0}\".format(media_pesos_kg))\n",
    "\n",
    "desvpad_pesos_lbs = dados.WEIGHT.std()\n",
    "desvpad_pesos_kg = desvpad_pesos_lbs/2.20462\n",
    "print(\"O desvio padrão do peso dos jogadores é: {0}\".format(desvpad_pesos_kg))\n"
   ]
  },
  {
   "cell_type": "code",
   "execution_count": 9,
   "metadata": {},
   "outputs": [
    {
     "data": {
      "text/plain": [
       "[<matplotlib.lines.Line2D at 0xcac6b71358>]"
      ]
     },
     "execution_count": 9,
     "metadata": {},
     "output_type": "execute_result"
    },
    {
     "data": {
      "image/png": "[encoded data removed]",
      "text/plain": [
       "<matplotlib.figure.Figure at 0xcac6b714e0>"
      ]
     },
     "metadata": {},
     "output_type": "display_data"
    }
   ],
   "source": [
    "loc = media_pesos_kg\n",
    "scale = desvpad_pesos_kg\n",
    "n = len(nba_players)\n",
    "\n",
    "plot = (dados[\"WEIGHT\"]/2.20462).plot.hist(density=True, bins=15)\n",
    "plot.set_xlabel('PESO(kgs)');\n",
    "\n",
    "X = norm.rvs(loc,scale,n)\n",
    "x = np.arange(X.min(), X.max(), 0.001)\n",
    "plt.plot(x, norm.pdf(x, loc, scale))"
   ]
  },
  {
   "cell_type": "markdown",
   "metadata": {},
   "source": [
    "# Análise da Altura "
   ]
  },
  {
   "cell_type": "code",
   "execution_count": 14,
   "metadata": {},
   "outputs": [
    {
     "ename": "TypeError",
     "evalue": "'float' object is not subscriptable",
     "output_type": "error",
     "traceback": [
      "\u001b[1;31m---------------------------------------------------------------------------\u001b[0m",
      "\u001b[1;31mTypeError\u001b[0m                                 Traceback (most recent call last)",
      "\u001b[1;32m<ipython-input-14-4945c5ed2487>\u001b[0m in \u001b[0;36m<module>\u001b[1;34m()\u001b[0m\n\u001b[0;32m      2\u001b[0m \u001b[1;33m\u001b[0m\u001b[0m\n\u001b[0;32m      3\u001b[0m \u001b[0mmedia_altura_ft\u001b[0m \u001b[1;33m=\u001b[0m \u001b[0mdados\u001b[0m\u001b[1;33m.\u001b[0m\u001b[0mHEIGHT\u001b[0m\u001b[1;33m.\u001b[0m\u001b[0mmean\u001b[0m\u001b[1;33m(\u001b[0m\u001b[1;33m)\u001b[0m\u001b[1;33m\u001b[0m\u001b[0m\n\u001b[1;32m----> 4\u001b[1;33m \u001b[0mmedia_altura_cm\u001b[0m \u001b[1;33m=\u001b[0m \u001b[0mmedia_altura_ft\u001b[0m\u001b[1;33m[\u001b[0m\u001b[1;36m0\u001b[0m\u001b[1;33m]\u001b[0m \u001b[1;33m*\u001b[0m \u001b[1;34m\"30.48\"\u001b[0m \u001b[1;33m+\u001b[0m \u001b[0mmedia_altura_ft\u001b[0m\u001b[1;33m[\u001b[0m\u001b[1;36m1\u001b[0m\u001b[1;33m]\u001b[0m \u001b[1;33m*\u001b[0m \u001b[1;34m\"2.54\"\u001b[0m\u001b[1;33m\u001b[0m\u001b[0m\n\u001b[0m\u001b[0;32m      5\u001b[0m \u001b[0mmedia_altura_cm\u001b[0m\u001b[1;33m\u001b[0m\u001b[0m\n\u001b[0;32m      6\u001b[0m \u001b[1;33m\u001b[0m\u001b[0m\n",
      "\u001b[1;31mTypeError\u001b[0m: 'float' object is not subscriptable"
     ]
    }
   ],
   "source": [
    "# Tirando a média/desvio padrão da altura em cm dos jogadores.\n",
    "\n",
    "media_altura_ft = dados.HEIGHT.mean()\n",
    "media_altura_cm = media_altura_ft[0] * 30.48 + media_altura_ft[1] * 2.54\n",
    "media_altura_cm\n",
    "\n",
    "#desvpad_altura_ft = dados.HEIGHT.std()\n",
    "#desvpad_altura_cm = desvpad_altura_ft[0] * 30.48 + desvpad_altura_ft[1:3] * 2.54\n",
    "#print(\"O desvio padrão do peso dos jogadores, em centímetros, é: {0}\".format(desvpad_altura_cm))"
   ]
  },
  {
   "cell_type": "markdown",
   "metadata": {},
   "source": [
    "# Comparação Altura e Média de Rebotes"
   ]
  },
  {
   "cell_type": "code",
   "execution_count": null,
   "metadata": {},
   "outputs": [],
   "source": [
    "dados_altura_idx = hdi_2000.set_index('Country')\n",
    "dados_rebotes_idx = internet_2000.set_index('Country')\n",
    "dadoslaborforce_idx = laborforce_2000.set_index('Country')"
   ]
  },
  {
   "cell_type": "code",
   "execution_count": null,
   "metadata": {},
   "outputs": [],
   "source": []
  },
  {
   "cell_type": "code",
   "execution_count": null,
   "metadata": {},
   "outputs": [],
   "source": []
  }
 ],
 "metadata": {
  "kernelspec": {
   "display_name": "Python 3",
   "language": "python",
   "name": "python3"
  },
  "language_info": {
   "codemirror_mode": {
    "name": "ipython",
    "version": 3
   },
   "file_extension": ".py",
   "mimetype": "text/x-python",
   "name": "python",
   "nbconvert_exporter": "python",
   "pygments_lexer": "ipython3",
   "version": "3.6.4"
  }
 },
 "nbformat": 4,
 "nbformat_minor": 2
}
